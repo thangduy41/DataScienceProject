{
 "cells": [
  {
   "cell_type": "markdown",
   "metadata": {},
   "source": [
    "# Phân tích dữ liệu bất động sản\n"
   ]
  },
  {
   "cell_type": "markdown",
   "metadata": {},
   "source": [
    "Nguồn dữ liệu: Dữ liệu được thu thập từ website Batdongsan.com.vn, chuyên mục Bán nhà riêng.\n"
   ]
  },
  {
   "cell_type": "code",
   "execution_count": 1,
   "metadata": {},
   "outputs": [],
   "source": [
    "import pandas as pd\n",
    "import numpy as np\n",
    "import re\n",
    "from unidecode import unidecode\n",
    "import warnings\n",
    "warnings.filterwarnings('ignore')\n",
    "from datetime import datetime\n",
    "import matplotlib.pyplot as plt\n",
    "import seaborn as sns"
   ]
  },
  {
   "cell_type": "markdown",
   "metadata": {},
   "source": [
    "Đọc dữ liệu từ file csv\n"
   ]
  },
  {
   "cell_type": "code",
   "execution_count": 2,
   "metadata": {},
   "outputs": [
    {
     "name": "stdout",
     "output_type": "stream",
     "text": [
      "5 bản ghi đầu tiên\n"
     ]
    },
    {
     "data": {
      "text/html": [
       "<div>\n",
       "<style scoped>\n",
       "    .dataframe tbody tr th:only-of-type {\n",
       "        vertical-align: middle;\n",
       "    }\n",
       "\n",
       "    .dataframe tbody tr th {\n",
       "        vertical-align: top;\n",
       "    }\n",
       "\n",
       "    .dataframe thead th {\n",
       "        text-align: right;\n",
       "    }\n",
       "</style>\n",
       "<table border=\"1\" class=\"dataframe\">\n",
       "  <thead>\n",
       "    <tr style=\"text-align: right;\">\n",
       "      <th></th>\n",
       "      <th>Địa điểm</th>\n",
       "      <th>Mức giá</th>\n",
       "      <th>Diện tích</th>\n",
       "      <th>Số phòng ngủ</th>\n",
       "      <th>Số phòng tắm, vệ sinh</th>\n",
       "      <th>Số tầng</th>\n",
       "      <th>Hướng nhà</th>\n",
       "      <th>Hướng ban công</th>\n",
       "      <th>Đường vào</th>\n",
       "      <th>Mặt tiền</th>\n",
       "      <th>Pháp lý</th>\n",
       "      <th>Nội thất</th>\n",
       "    </tr>\n",
       "  </thead>\n",
       "  <tbody>\n",
       "    <tr>\n",
       "      <th>0</th>\n",
       "      <td>Hoàng Mai, Hà Nội</td>\n",
       "      <td>20 tỷ</td>\n",
       "      <td>133 m²</td>\n",
       "      <td>NaN</td>\n",
       "      <td>NaN</td>\n",
       "      <td>NaN</td>\n",
       "      <td>Đông - Nam</td>\n",
       "      <td>NaN</td>\n",
       "      <td>1,8 m</td>\n",
       "      <td>8,6 m</td>\n",
       "      <td>Sổ đỏ/ Sổ hồng</td>\n",
       "      <td>NaN</td>\n",
       "    </tr>\n",
       "    <tr>\n",
       "      <th>1</th>\n",
       "      <td>Phú Nhuận, Hồ Chí Minh</td>\n",
       "      <td>2,45 tỷ/m²</td>\n",
       "      <td>56 m²</td>\n",
       "      <td>5 phòng</td>\n",
       "      <td>4 phòng</td>\n",
       "      <td>4 tầng</td>\n",
       "      <td>NaN</td>\n",
       "      <td>NaN</td>\n",
       "      <td>6 m</td>\n",
       "      <td>4 m</td>\n",
       "      <td>Sổ đỏ/ Sổ hồng</td>\n",
       "      <td>#NAME?</td>\n",
       "    </tr>\n",
       "    <tr>\n",
       "      <th>2</th>\n",
       "      <td>Ngũ Hành Sơn, Đà Nẵng</td>\n",
       "      <td>25 tỷ</td>\n",
       "      <td>110 m²</td>\n",
       "      <td>9 phòng</td>\n",
       "      <td>10 phòng</td>\n",
       "      <td>6 tầng</td>\n",
       "      <td>Tây - Nam</td>\n",
       "      <td>Tây - Nam</td>\n",
       "      <td>NaN</td>\n",
       "      <td>NaN</td>\n",
       "      <td>Sổ đỏ/ Sổ hồng</td>\n",
       "      <td>Đầy đủ</td>\n",
       "    </tr>\n",
       "    <tr>\n",
       "      <th>3</th>\n",
       "      <td>Quận 1, Hồ Chí Minh</td>\n",
       "      <td>2,39 tỷ</td>\n",
       "      <td>61 m²</td>\n",
       "      <td>4 phòng</td>\n",
       "      <td>5 phòng</td>\n",
       "      <td>3 tầng</td>\n",
       "      <td>NaN</td>\n",
       "      <td>NaN</td>\n",
       "      <td>5 m</td>\n",
       "      <td>4 m</td>\n",
       "      <td>Sổ đỏ/ Sổ hồng.</td>\n",
       "      <td>Đầy đủ.</td>\n",
       "    </tr>\n",
       "    <tr>\n",
       "      <th>4</th>\n",
       "      <td>Bình Thạnh, Hồ Chí Minh</td>\n",
       "      <td>2,59 tỷ</td>\n",
       "      <td>49,7 m²</td>\n",
       "      <td>4 phòng</td>\n",
       "      <td>5 phòng</td>\n",
       "      <td>3 tầng</td>\n",
       "      <td>NaN</td>\n",
       "      <td>NaN</td>\n",
       "      <td>6 m</td>\n",
       "      <td>NaN</td>\n",
       "      <td>Sổ đỏ/ Sổ hồng</td>\n",
       "      <td>Cơ bản</td>\n",
       "    </tr>\n",
       "  </tbody>\n",
       "</table>\n",
       "</div>"
      ],
      "text/plain": [
       "                  Địa điểm     Mức giá Diện tích Số phòng ngủ  \\\n",
       "0        Hoàng Mai, Hà Nội       20 tỷ    133 m²          NaN   \n",
       "1   Phú Nhuận, Hồ Chí Minh  2,45 tỷ/m²     56 m²      5 phòng   \n",
       "2    Ngũ Hành Sơn, Đà Nẵng       25 tỷ    110 m²      9 phòng   \n",
       "3      Quận 1, Hồ Chí Minh     2,39 tỷ     61 m²      4 phòng   \n",
       "4  Bình Thạnh, Hồ Chí Minh     2,59 tỷ   49,7 m²      4 phòng   \n",
       "\n",
       "  Số phòng tắm, vệ sinh Số tầng   Hướng nhà Hướng ban công Đường vào Mặt tiền  \\\n",
       "0                   NaN     NaN  Đông - Nam            NaN     1,8 m    8,6 m   \n",
       "1               4 phòng  4 tầng         NaN            NaN       6 m      4 m   \n",
       "2              10 phòng  6 tầng   Tây - Nam      Tây - Nam       NaN      NaN   \n",
       "3               5 phòng  3 tầng         NaN            NaN       5 m      4 m   \n",
       "4               5 phòng  3 tầng         NaN            NaN       6 m      NaN   \n",
       "\n",
       "           Pháp lý Nội thất  \n",
       "0   Sổ đỏ/ Sổ hồng      NaN  \n",
       "1   Sổ đỏ/ Sổ hồng   #NAME?  \n",
       "2   Sổ đỏ/ Sổ hồng   Đầy đủ  \n",
       "3  Sổ đỏ/ Sổ hồng.  Đầy đủ.  \n",
       "4   Sổ đỏ/ Sổ hồng   Cơ bản  "
      ]
     },
     "execution_count": 2,
     "metadata": {},
     "output_type": "execute_result"
    }
   ],
   "source": [
    "df = pd.read_csv('../data/raw/data.csv', encoding='utf-8')\n",
    "\n",
    "# Drop cột 'Tiêu đề' và 'URL'\n",
    "df = df.drop(columns=['Tiêu đề', 'URL', 'Ngày đăng'])\n",
    "\n",
    "print(\"5 bản ghi đầu tiên\")\n",
    "df.head() "
   ]
  },
  {
   "cell_type": "markdown",
   "metadata": {},
   "source": [
    "## I) Kiểm Tra Tổng Quan\n"
   ]
  },
  {
   "cell_type": "markdown",
   "metadata": {},
   "source": [
    "### a) Thống kê số lượng giá trị thiếu trên mỗi bản ghi\n"
   ]
  },
  {
   "cell_type": "code",
   "execution_count": 3,
   "metadata": {},
   "outputs": [
    {
     "name": "stdout",
     "output_type": "stream",
     "text": [
      "0     4002\n",
      "1     3014\n",
      "2    11784\n",
      "3     9378\n",
      "4     7514\n",
      "5     5154\n",
      "6     3570\n",
      "7     2358\n",
      "8     1545\n",
      "9      914\n",
      "Name: count, dtype: int64\n"
     ]
    }
   ],
   "source": [
    "missing_counts = df.isna().sum(axis=1)\n",
    "missing_summary = missing_counts.value_counts().sort_index()\n",
    "print(missing_summary)\n"
   ]
  },
  {
   "cell_type": "markdown",
   "metadata": {},
   "source": [
    "#### Nhận xét\n",
    "\n",
    "- Số lượng bản ghi thiếu trên 3 giá trị chiếm tỷ lệ khá lớn, làm giảm độ tin cậy và chất lượng dữ liệu phân tích.\n",
    "\n",
    "- Để đảm bảo kết quả phân tích chính xác và giảm thiểu nhiễu, ta nên loại bỏ các bản ghi này.\n",
    "\n",
    "- Sau khi loại bỏ, dataset còn lại khoảng **25,000** bản ghi, đủ lớn để thực hiện các phân tích sâu và xây dựng mô hình một cách hiệu quả.\n"
   ]
  },
  {
   "cell_type": "markdown",
   "metadata": {},
   "source": [
    "### b) Thống kê số lượng thiếu của các cột\n"
   ]
  },
  {
   "cell_type": "code",
   "execution_count": 4,
   "metadata": {},
   "outputs": [
    {
     "name": "stdout",
     "output_type": "stream",
     "text": [
      "\n",
      "Kết quả phân tích cột:\n",
      "                       Số giá trị thiếu  Tỉ lệ thiếu (%)\n",
      "Hướng ban công                    43031            87.40\n",
      "Hướng nhà                         38805            78.82\n",
      "Đường vào                         20316            41.27\n",
      "Nội thất                          18751            38.09\n",
      "Mặt tiền                          16621            33.76\n",
      "Số phòng tắm, vệ sinh             12062            24.50\n",
      "Số phòng ngủ                       8736            17.74\n",
      "Số tầng                            6709            13.63\n",
      "Pháp lý                            4023             8.17\n",
      "Diện tích                             0             0.00\n",
      "Địa điểm                              0             0.00\n",
      "Mức giá                               0             0.00\n"
     ]
    }
   ],
   "source": [
    "def analyze_columns(df):\n",
    "    \"\"\"Phân tích giá trị thiếu và kiểu dữ liệu của các cột\"\"\"\n",
    "\n",
    "    # Tính tỉ lệ thiếu của mỗi cột\n",
    "    missing_stats = pd.DataFrame({\n",
    "        'Số giá trị thiếu': df.isnull().sum(),\n",
    "        'Tỉ lệ thiếu (%)': (df.isnull().sum() / len(df) * 100).round(2)\n",
    "    })\n",
    "\n",
    "    # Sắp xếp theo tỉ lệ thiếu giảm dần\n",
    "    missing_stats = missing_stats.sort_values('Tỉ lệ thiếu (%)', ascending=False)\n",
    "\n",
    "    print(\"\\nKết quả phân tích cột:\")\n",
    "    print(missing_stats)\n",
    "\n",
    "    return missing_stats\n",
    "\n",
    "original_stats = analyze_columns(df)"
   ]
  },
  {
   "cell_type": "markdown",
   "metadata": {},
   "source": [
    "#### Nhận xét:\n",
    "\n",
    "- Một số cột có **tỉ lệ thiếu rất cao (> 70%)** như `Hướng ban công`, `Hướng nhà` → nên loại bỏ.\n",
    "- Các cột có **tỉ lệ thiếu trung bình (30–50%)** như `Đường vào`, `Nội thất`, `Mặt tiền` → có thể giữ lại nếu xử lý hợp lý.\n"
   ]
  },
  {
   "cell_type": "markdown",
   "metadata": {},
   "source": [
    "### c) Kiểm Tra Kiểu Dữ Liệu\n"
   ]
  },
  {
   "cell_type": "code",
   "execution_count": 5,
   "metadata": {},
   "outputs": [
    {
     "data": {
      "text/plain": [
       "Địa điểm                 object\n",
       "Mức giá                  object\n",
       "Diện tích                object\n",
       "Số phòng ngủ             object\n",
       "Số phòng tắm, vệ sinh    object\n",
       "Số tầng                  object\n",
       "Hướng nhà                object\n",
       "Hướng ban công           object\n",
       "Đường vào                object\n",
       "Mặt tiền                 object\n",
       "Pháp lý                  object\n",
       "Nội thất                 object\n",
       "dtype: object"
      ]
     },
     "execution_count": 5,
     "metadata": {},
     "output_type": "execute_result"
    }
   ],
   "source": [
    "df.dtypes"
   ]
  },
  {
   "cell_type": "markdown",
   "metadata": {},
   "source": [
    "#### Nhận xét:\n",
    "\n",
    "- Tất cả các cột trong DataFrame đều có kiểu dữ liệu `object`, mặc dù một số cột thực tế chứa dữ liệu số hoặc văn bản.\n",
    "- Cần chuyển các cột như `Mức giá`, `Diện tích`, `Số phòng ngủ`, `Số phòng tắm, vệ sinh`, `Số tầng`, `Mặt tiền` thành kiểu `float` hoặc `int` để có thể thực hiện các phép toán và phân tích tiếp theo.\n",
    "- Các cột như `Địa điểm`, `Hướng nhà`, `Hướng ban công`, `Đường vào`, `Pháp lý`, `Nội thất` có thể giữ kiểu `object`. Tuy nhiên, cần phải chuẩn hóa và kiểm tra dữ liệu để loại bỏ các lỗi chính tả hoặc các giá trị không hợp lệ, giúp dữ liệu trở nên đồng nhất hơn.\n"
   ]
  },
  {
   "cell_type": "markdown",
   "metadata": {},
   "source": [
    "## II) Phân tích đặc trưng số (Numerical)\n"
   ]
  },
  {
   "cell_type": "markdown",
   "metadata": {},
   "source": [
    "Các đặc trưng số trong dữ liệu bao gồm: **Mức giá**, **Diện tích**, **Số phòng ngủ**, **Số phòng tắm, vệ sinh**, **Số tầng**, **Đường vào**, và **Mặt tiền**.\n",
    "\n",
    "- Các đặc trưng không có đơn vị (như số tầng, số phòng) → không cần kiểm tra đơn vị.\n",
    "- Các đặc trưng có đơn vị (giá, diện tích, mặt tiền, đừng vào) → cần kiểm tra kỹ và chuẩn hóa.được chuẩn hóa để đảm bảo tính nhất quán.\n",
    "\n",
    "Trong bước này, chúng ta sẽ tập trung vào kiểm tra và chuẩn hóa các đơn vị.\n"
   ]
  },
  {
   "cell_type": "markdown",
   "metadata": {},
   "source": [
    "### 1) Mức giá\n"
   ]
  },
  {
   "cell_type": "code",
   "execution_count": 6,
   "metadata": {},
   "outputs": [
    {
     "name": "stdout",
     "output_type": "stream",
     "text": [
      "Số lượng từng đơn vị trong cột 'Mực giá':\n",
      "Mức giá\n",
      "tỷ             44332\n",
      "Thỏa thuận      4424\n",
      "triệu/m²         277\n",
      "triệu            194\n",
      "nghìn              3\n",
      "tỷ/m²              2\n",
      "triệu/tháng        1\n",
      "Name: count, dtype: int64\n"
     ]
    }
   ],
   "source": [
    "unit_counts = df['Mức giá'] \\\n",
    "    .apply(lambda x: re.sub(r'[0-9.,]+', '', str(x))) \\\n",
    "    .str.strip() \\\n",
    "    .value_counts()\n",
    "\n",
    "# In kết quả\n",
    "print(\"Số lượng từng đơn vị trong cột 'Mực giá':\")\n",
    "print(unit_counts)"
   ]
  },
  {
   "cell_type": "markdown",
   "metadata": {},
   "source": [
    "#### Nhận xét:\n",
    "\n",
    "- **`tỷ`** là đơn vị phổ biến nhất.\n",
    "- **`triệu`** cũng là đơn vị phù hợp, có thể quy đổi về `tỷ`.\n",
    "- **`triệu/m²`** là đơn vị theo giá trên diện tích – có thể chuyển đổi sang tổng giá trị bằng cách **nhân với diện tích**.\n",
    "- Các đơn vị như `Thỏa thuận`, `nghìn`, `tỷ/m²`, `triệu/tháng`:\n",
    "  - Không cung cấp thông tin cụ thể hoặc không phù hợp với mục tiêu phân tích giá tổng → **sẽ bị loại bỏ**.\n",
    "\n",
    "#### ✅ Kế hoạch xử lý:\n",
    "\n",
    "- **Loại bỏ** các bản ghi có đơn vị: `Thỏa thuận`, `nghìn`, `tỷ/m²`, `triệu/tháng`.\n",
    "- **Tính toán lại giá** cho các bản ghi có đơn vị `triệu/m²`:  \n",
    "  → `Giá (triệu) = Giá trị * Diện tích`\n",
    "- **Chuyển đổi đơn vị** `triệu` → `tỷ` để đồng nhất (chia cho 1000).\n"
   ]
  },
  {
   "cell_type": "markdown",
   "metadata": {},
   "source": [
    "### 2) Diện tích\n"
   ]
  },
  {
   "cell_type": "code",
   "execution_count": 7,
   "metadata": {},
   "outputs": [
    {
     "name": "stdout",
     "output_type": "stream",
     "text": [
      "Số lượng từng đơn vị trong cột 'Diện tích':\n",
      "Diện tích\n",
      "m²    49233\n",
      "Name: count, dtype: int64\n"
     ]
    }
   ],
   "source": [
    "unit_counts = df['Diện tích'] \\\n",
    "    .apply(lambda x: re.sub(r'[0-9.,]+', '', str(x))) \\\n",
    "    .str.strip() \\\n",
    "    .value_counts()\n",
    "\n",
    "# In kết quả\n",
    "print(\"Số lượng từng đơn vị trong cột 'Diện tích':\")\n",
    "print(unit_counts)"
   ]
  },
  {
   "cell_type": "markdown",
   "metadata": {},
   "source": [
    "#### Nhận xét:\n",
    "\n",
    "- Tất cả bác bản ghi đều có đơn vị là **`m²`**\n"
   ]
  },
  {
   "cell_type": "markdown",
   "metadata": {},
   "source": [
    "### 3) Đường vào\n"
   ]
  },
  {
   "cell_type": "markdown",
   "metadata": {},
   "source": [
    "Ý nghĩa: Chiều rộng của con đường dẫn từ trục đường chính tới bất động sản.\n"
   ]
  },
  {
   "cell_type": "code",
   "execution_count": 8,
   "metadata": {},
   "outputs": [
    {
     "name": "stdout",
     "output_type": "stream",
     "text": [
      "Số lượng từng đơn vị trong cột 'Đường vào':\n",
      "Đường vào\n",
      "m      28917\n",
      "nan    20316\n",
      "Name: count, dtype: int64\n"
     ]
    }
   ],
   "source": [
    "unit_counts = df['Đường vào'] \\\n",
    "    .apply(lambda x: re.sub(r'[0-9.,]+', '', str(x))) \\\n",
    "    .str.strip() \\\n",
    "    .value_counts()\n",
    "\n",
    "# In kết quả\n",
    "print(\"Số lượng từng đơn vị trong cột 'Đường vào':\")\n",
    "print(unit_counts)"
   ]
  },
  {
   "cell_type": "markdown",
   "metadata": {},
   "source": [
    "#### Nhận xét:\n",
    "\n",
    "- Tất cả bác bản ghi đều có đơn vị là **`m`**\n"
   ]
  },
  {
   "cell_type": "markdown",
   "metadata": {},
   "source": [
    "### 4) Mặt tiền\n"
   ]
  },
  {
   "cell_type": "markdown",
   "metadata": {},
   "source": [
    "Ý nghĩa: Chiều dài mặt trước của ngôi nhà/đất tiếp giáp trực tiếp với đường.\n"
   ]
  },
  {
   "cell_type": "code",
   "execution_count": 9,
   "metadata": {},
   "outputs": [
    {
     "name": "stdout",
     "output_type": "stream",
     "text": [
      "Số lượng từng đơn vị trong cột 'Mặt tiền':\n",
      "Mặt tiền\n",
      "m      32612\n",
      "nan    16621\n",
      "Name: count, dtype: int64\n"
     ]
    }
   ],
   "source": [
    "unit_counts = df['Mặt tiền'] \\\n",
    "    .apply(lambda x: re.sub(r'[0-9.,]+', '', str(x))) \\\n",
    "    .str.strip() \\\n",
    "    .value_counts()\n",
    "\n",
    "# In kết quả\n",
    "print(\"Số lượng từng đơn vị trong cột 'Mặt tiền':\")\n",
    "print(unit_counts)"
   ]
  },
  {
   "cell_type": "markdown",
   "metadata": {},
   "source": [
    "#### Nhận xét:\n",
    "\n",
    "- Tất cả bác bản ghi đều có đơn vị là **`m`**\n"
   ]
  },
  {
   "cell_type": "markdown",
   "metadata": {},
   "source": [
    "## III) Phân tích đặc trưng phân loại (Categorical)\n"
   ]
  },
  {
   "cell_type": "markdown",
   "metadata": {},
   "source": [
    "Các đặc trưng phân loại trong dữ liệu bao gồm: **Địa điểm**, **Hướng nhà**, **Pháp lý**, **Nội thất**.\n"
   ]
  },
  {
   "cell_type": "markdown",
   "metadata": {},
   "source": [
    "### 1) Địa điểm\n"
   ]
  },
  {
   "cell_type": "code",
   "execution_count": 10,
   "metadata": {},
   "outputs": [
    {
     "data": {
      "text/plain": [
       "0          Hoàng Mai, Hà Nội\n",
       "1     Phú Nhuận, Hồ Chí Minh\n",
       "2      Ngũ Hành Sơn, Đà Nẵng\n",
       "3        Quận 1, Hồ Chí Minh\n",
       "4    Bình Thạnh, Hồ Chí Minh\n",
       "Name: Địa điểm, dtype: object"
      ]
     },
     "execution_count": 10,
     "metadata": {},
     "output_type": "execute_result"
    }
   ],
   "source": [
    "df['Địa điểm'].head()"
   ]
  },
  {
   "cell_type": "markdown",
   "metadata": {},
   "source": [
    "#### Nhận xét:\n",
    "\n",
    "Trong dữ liệu, địa điểm được ghi theo định dạng \"quận/huyện, tỉnh/thành phố\" và được phân tách bằng dấu phẩy.  \n",
    " → Có thể tách thành 2 cột riêng biệt: \"Quận/Huyện\" và \"Tỉnh/Thành phố\" để thuận tiện cho việc phân tích hoặc nhóm theo khu vực.\n",
    "\n",
    "Để giá trị này có thể áp dụng, đề xuất crawl dữ liệu về mật độ dân cư của các quận huyện để tạo feature mới\n"
   ]
  },
  {
   "cell_type": "markdown",
   "metadata": {},
   "source": [
    "### 2) Hướng nhà\n"
   ]
  },
  {
   "cell_type": "markdown",
   "metadata": {},
   "source": [
    "Hướng nhà có ý nghĩa về mặt phong thủ, có thể ảnh hướng tới giá nhà.\n"
   ]
  },
  {
   "cell_type": "code",
   "execution_count": 11,
   "metadata": {},
   "outputs": [
    {
     "data": {
      "text/plain": [
       "Hướng nhà\n",
       "Đông - Nam    2164\n",
       "Tây - Nam     1427\n",
       "Đông - Bắc    1376\n",
       "Tây - Bắc     1299\n",
       "Nam           1236\n",
       "Đông          1147\n",
       "Tây            949\n",
       "Bắc            830\n",
       "Name: count, dtype: int64"
      ]
     },
     "execution_count": 11,
     "metadata": {},
     "output_type": "execute_result"
    }
   ],
   "source": [
    "df['Hướng nhà'].value_counts()\n"
   ]
  },
  {
   "cell_type": "markdown",
   "metadata": {},
   "source": [
    "#### Nhận xét:\n",
    "\n",
    "Dữ liệu trong cột **Hướng nhà** khá sạch, không xuất hiện lỗi định dạng như một giá trị có nhiều cách viết khác nhau.\n",
    "→ Có thể giữ nguyên hoặc thực hiện chuẩn hóa nhẹ (ví dụ: loại bỏ khoảng trắng dư, viết hoa đồng nhất) để phục vụ phân tích sau này.\n"
   ]
  },
  {
   "cell_type": "markdown",
   "metadata": {},
   "source": [
    "### 3) Pháp lý\n"
   ]
  },
  {
   "cell_type": "code",
   "execution_count": 12,
   "metadata": {},
   "outputs": [
    {
     "data": {
      "text/plain": [
       "Pháp lý\n",
       "Sổ đỏ/ Sổ hồng                                                                             40377\n",
       "Sổ đỏ/ Sổ hồng.                                                                             1764\n",
       "Sổ đỏ                                                                                        804\n",
       "Sổ hồng                                                                                      606\n",
       "Hợp đồng mua bán                                                                             198\n",
       "                                                                                           ...  \n",
       "Pháp lý: Thuế phí chủ lo.                                                                      1\n",
       "Sổ hồng hoàn công nhà                                                                          1\n",
       "Sổ đỏ sổ hồng chính chủ                                                                        1\n",
       "Pháp lý: Sổ hồng riêng, hoàn công đầy đủ. Ngân hàng hỗ trợ vay trên 70% cho khách hàng.        1\n",
       "Giấy viết tay                                                                                  1\n",
       "Name: count, Length: 350, dtype: int64"
      ]
     },
     "execution_count": 12,
     "metadata": {},
     "output_type": "execute_result"
    }
   ],
   "source": [
    "df['Pháp lý'].value_counts()\n"
   ]
  },
  {
   "cell_type": "markdown",
   "metadata": {},
   "source": [
    "#### Nhận xét:\n",
    "\n",
    "Dữ liệu trong cột Pháp lý có nhiều giá trị khác nhau, bao gồm thông tin về sổ đỏ, sổ hồng, hợp đồng mua bán, và các thông tin không rõ ràng như \"giấy viết tay\" hoặc \"thuế phí chủ lo\".\n",
    "\n",
    "#### ✅ Kế hoạch xử lý:\n",
    "\n",
    "- Lọc từ khóa và chia thành 2 loại: Có và Không.\n",
    "- Cần nghiên kíu kỹ từ khóa lọc để phân loại chính xác vào các nhóm\n"
   ]
  },
  {
   "cell_type": "markdown",
   "metadata": {},
   "source": [
    "### 4) Nội thất\n"
   ]
  },
  {
   "cell_type": "code",
   "execution_count": 13,
   "metadata": {},
   "outputs": [
    {
     "data": {
      "text/plain": [
       "Nội thất\n",
       "Đầy đủ                                                                                                                      17772\n",
       "Cơ bản                                                                                                                       7603\n",
       "Đầy đủ.                                                                                                                      1265\n",
       "Không nội thất                                                                                                               1080\n",
       "Cơ bản.                                                                                                                       485\n",
       "                                                                                                                            ...  \n",
       "Tặng Nội thất cao Cấp, Trang Bị sẵn theo thiết kế                                                                               1\n",
       "Đầy đủ gồm giường tủ bàn ghế sofa, tủ lạnh, bếp từ, hút mùi, điều hòa nóng lạnh, máy giặt...                                    1\n",
       "Đầy đủ bao gồm: Điều hòa, tủ lạnh, giường,...                                                                                   1\n",
       "Giá trị nội thất đã vài tỷ.                                                                                                     1\n",
       "Có đầy đủ tủ bếp, thiết bị vệ sinh, tay vịn cầu thang, máy bơm, bồn nước, hệ thống cửa đầy đủ, điện nước riêng từng nhà.        1\n",
       "Name: count, Length: 1057, dtype: int64"
      ]
     },
     "execution_count": 13,
     "metadata": {},
     "output_type": "execute_result"
    }
   ],
   "source": [
    "df['Nội thất'].value_counts()\n"
   ]
  },
  {
   "cell_type": "markdown",
   "metadata": {},
   "source": [
    "#### Nhận xét:\n",
    "\n",
    "Dữ liệu trong cột **Nội thất** có sự đa dạng về cách diễn đạt nhưng phần lớn có thể được gom nhóm theo các loại chính.\n",
    "\n",
    "Ba nhóm phổ biến là:\n",
    "\n",
    "- **Đầy đủ**: chiếm phần lớn, với các cách ghi như “Đầy đủ”, “Đầy đủ.” hoặc mô tả chi tiết nội thất.\n",
    "- **Cơ bản**: cũng xuất hiện nhiều, gồm cả “Cơ bản” và “Cơ bản.”.\n",
    "- **Không nội thất**: là nhóm còn lại nhưng ít hơn.\n",
    "\n",
    "Ngoài ra có nhiều mô tả chi tiết, dài dòng (vd: “Đầy đủ gồm giường tủ bàn ghế sofa...”) nhưng thực chất vẫn thuộc nhóm **Đầy đủ**.\n",
    "\n",
    "#### ✅ Kế hoạch xử lý:\n",
    "\n",
    "Chuẩn hóa lại dữ liệu bằng cách lọc từ khóa (ví dụ: “đầy đủ”, “cơ bản”, “không”) để phân nhóm thống nhất giúp phân tích dễ dàng hơn.\n"
   ]
  },
  {
   "cell_type": "markdown",
   "metadata": {},
   "source": [
    "## IV) Kết luận\n"
   ]
  },
  {
   "cell_type": "markdown",
   "metadata": {},
   "source": [
    "### 1. Vấn đề cần xử lý\n",
    "\n",
    "1. **Giá trị thiếu**:\n",
    "\n",
    "   - Các cột có tỷ lệ thiếu cao (>70%): Hướng ban công, Hướng nhà\n",
    "   - Các cột có tỷ lệ thiếu trung bình (30-50%): Đường vào, Nội thất, Mặt tiền\n",
    "   - Các cột có tỷ lệ thiếu thấp (<20%): Số phòng ngủ, Số phòng tắm, Số tầng\n",
    "\n",
    "2. **Chuẩn hóa đơn vị**:\n",
    "\n",
    "   - Mức giá: Cần chuẩn hóa về đơn vị tỷ đồng\n",
    "   - Diện tích: Đã thống nhất đơn vị m²\n",
    "   - Đường vào và Mặt tiền: Đã thống nhất đơn vị m\n",
    "\n",
    "3. **Chuẩn hóa dữ liệu phân loại**:\n",
    "   - Địa điểm: Cần tách thành Quận/Huyện và Tỉnh/Thành phố\n",
    "   - Pháp lý: Cần chuẩn hóa thành các nhóm rõ ràng\n",
    "   - Nội thất: Cần chuẩn hóa thành 3 nhóm chính\n",
    "\n",
    "### 2. Kế hoạch xử lý\n",
    "\n",
    "1. **Tiền xử lý (01_preprocess.py)**:\n",
    "\n",
    "   - Loại bỏ các cột có tỷ lệ thiếu cao\n",
    "   - Chuẩn hóa đơn vị đo lường\n",
    "   - Tách và chuẩn hóa dữ liệu địa điểm\n",
    "   - Chuẩn hóa các cột phân loại\n",
    "\n",
    "2. **Phân tích phân phối (02_analyze_distribution.ipynb)**:\n",
    "   - Phân tích ngoại lệ trong giá và diện tích\n",
    "   - Phân tích tương quan giữa các biến\n",
    "   - Phân tích theo khu vực địa lý\n"
   ]
  }
 ],
 "metadata": {
  "kernelspec": {
   "display_name": "Python 3",
   "language": "python",
   "name": "python3"
  },
  "language_info": {
   "codemirror_mode": {
    "name": "ipython",
    "version": 3
   },
   "file_extension": ".py",
   "mimetype": "text/x-python",
   "name": "python",
   "nbconvert_exporter": "python",
   "pygments_lexer": "ipython3",
   "version": "3.13.0"
  }
 },
 "nbformat": 4,
 "nbformat_minor": 4
}
